{
 "cells": [
  {
   "cell_type": "code",
   "execution_count": null,
   "id": "33a02eb2-0991-4666-982d-d504a5e3753f",
   "metadata": {},
   "outputs": [],
   "source": [
    "import os\n",
    "from zhipuai import ZhipuAI\n",
    "import base64\n",
    "os.environ[\"ZHIPUAI_API_KEY\"]=\"58812fb61db0890ae282d532f0c60ad1.gnwWZAjN5hI8XLGD\"\n",
    "client=ZhipuAI()"
   ]
  },
  {
   "cell_type": "code",
   "execution_count": 5,
   "id": "6305ab27-dd2d-463c-9a1f-3d59e32732d9",
   "metadata": {},
   "outputs": [
    {
     "name": "stdout",
     "output_type": "stream",
     "text": [
      "Requirement already satisfied: zhipuAI in c:\\programdata\\anaconda3\\lib\\site-packages (2.1.5.20230904)\n",
      "Requirement already satisfied: cachetools>=4.2.2 in c:\\programdata\\anaconda3\\lib\\site-packages (from zhipuAI) (5.5.0)\n",
      "Requirement already satisfied: httpx>=0.23.0 in c:\\programdata\\anaconda3\\lib\\site-packages (from zhipuAI) (0.27.2)\n",
      "Requirement already satisfied: pydantic-core>=2.14.6 in c:\\programdata\\anaconda3\\lib\\site-packages (from zhipuAI) (2.27.0)\n",
      "Requirement already satisfied: pydantic<3.0,>=1.9.0 in c:\\programdata\\anaconda3\\lib\\site-packages (from zhipuAI) (2.10.0)\n",
      "Requirement already satisfied: pyjwt<2.9.0,>=2.8.0 in c:\\programdata\\anaconda3\\lib\\site-packages (from zhipuAI) (2.8.0)\n",
      "Requirement already satisfied: anyio in c:\\programdata\\anaconda3\\lib\\site-packages (from httpx>=0.23.0->zhipuAI) (3.5.0)\n",
      "Requirement already satisfied: sniffio in c:\\programdata\\anaconda3\\lib\\site-packages (from httpx>=0.23.0->zhipuAI) (1.2.0)\n",
      "Requirement already satisfied: certifi in c:\\programdata\\anaconda3\\lib\\site-packages (from httpx>=0.23.0->zhipuAI) (2022.9.14)\n",
      "Requirement already satisfied: httpcore==1.* in c:\\programdata\\anaconda3\\lib\\site-packages (from httpx>=0.23.0->zhipuAI) (1.0.7)\n",
      "Requirement already satisfied: idna in c:\\programdata\\anaconda3\\lib\\site-packages (from httpx>=0.23.0->zhipuAI) (3.3)\n",
      "Requirement already satisfied: h11<0.15,>=0.13 in c:\\programdata\\anaconda3\\lib\\site-packages (from httpcore==1.*->httpx>=0.23.0->zhipuAI) (0.14.0)\n",
      "Requirement already satisfied: annotated-types>=0.6.0 in c:\\programdata\\anaconda3\\lib\\site-packages (from pydantic<3.0,>=1.9.0->zhipuAI) (0.7.0)\n",
      "Requirement already satisfied: typing-extensions>=4.12.2 in c:\\programdata\\anaconda3\\lib\\site-packages (from pydantic<3.0,>=1.9.0->zhipuAI) (4.12.2)\n",
      "Note: you may need to restart the kernel to use updated packages.\n"
     ]
    }
   ],
   "source": [
    "pip install zhipuAI"
   ]
  },
  {
   "cell_type": "code",
   "execution_count": 45,
   "id": "f21c4a81-d8b0-4435-8bf1-f3b350253716",
   "metadata": {},
   "outputs": [
    {
     "name": "stdout",
     "output_type": "stream",
     "text": [
      "VideoObject(id='235617320712128369216575681093613805', model='cogvideox', video_result=None, task_status='PROCESSING', request_id='9216575681093613804')\n"
     ]
    }
   ],
   "source": [
    "from zhipuai import ZhipuAI\n",
    "client=ZhipuAI(api_key=\"58812fb61db0890ae282d532f0c60ad1.gnwWZAjN5hI8XLGD\")\n",
    "\n",
    "response=client.videos.generations(\n",
    "    model=\"cogvideox\",\n",
    "    prompt=\"沙奈朵是一只白色的双足宝可梦，下方裙摆的内侧是绿色的，长裙包裹下的腿长而纤细，绿色的头发自头部的两侧垂下。它面部的边缘长有刺状物，与化装舞会的面具相像。它的手臂是绿色的，手臂与纤细的手套般的手指之间没有明显的界限。它还长有红色的胸鳍状结构，相对身前的部分，其背部的胸鳍圆滑而短小。胸口一条绿色的花纹一直延伸到最中央的鳍，另一端则与套袖般的手臂相连。在阳光明媚的天气里，她站在树林中的一颗苹果树下拿着苹果，风吹动着树叶\")\n",
    "print(response)"
   ]
  },
  {
   "cell_type": "code",
   "execution_count": 50,
   "id": "1478d499-fcb2-46f9-98ac-992ac30219a4",
   "metadata": {},
   "outputs": [
    {
     "name": "stdout",
     "output_type": "stream",
     "text": [
      "VideoObject(id=None, model='cogvideox', video_result=[VideoResult(url='https://aigc-files.bigmodel.cn/api/cogvideo/af7ceda8-a7ae-11ef-bd78-9ee7942420ea_0.mp4', cover_image_url='https://aigc-files.bigmodel.cn/api/cogvideo/af7ceda8-a7ae-11ef-bd78-9ee7942420ea_cover_0.jpeg')], task_status='SUCCESS', request_id='9216575681093613804')\n"
     ]
    }
   ],
   "source": [
    "from zhipuai import ZhipuAI\n",
    "client=ZhipuAI(api_key=\"58812fb61db0890ae282d532f0c60ad1.gnwWZAjN5hI8XLGD\")\n",
    "\n",
    "response=client.videos.retrieve_videos_result(\n",
    "    id='235617320712128369216575681093613805'\n",
    ")\n",
    "print(response)"
   ]
  },
  {
   "cell_type": "code",
   "execution_count": 28,
   "id": "4e9285a7-a7e9-4a7d-9a74-46645697b5a3",
   "metadata": {},
   "outputs": [
    {
     "name": "stdout",
     "output_type": "stream",
     "text": [
      "VideoObject(id=None, model='cogvideox', video_result=[VideoResult(url='https://aigc-files.bigmodel.cn/api/cogvideo/225ad98e-a7aa-11ef-bd78-9ee7942420ea_0.mp4', cover_image_url='https://aigc-files.bigmodel.cn/api/cogvideo/225ad98e-a7aa-11ef-bd78-9ee7942420ea_cover_0.jpeg')], task_status='SUCCESS', request_id='9216580285300510212')\n"
     ]
    }
   ],
   "source": [
    "from zhipuai import ZhipuAI\n",
    "client=ZhipuAI(api_key=\"58812fb61db0890ae282d532f0c60ad1.gnwWZAjN5hI8XLGD\")\n",
    "\n",
    "response=client.videos.retrieve_videos_result(\n",
    "    id='235617320712128369216580285300510213'\n",
    ")\n",
    "print(response)"
   ]
  },
  {
   "cell_type": "code",
   "execution_count": 1,
   "id": "7f2effcc-38f5-4865-a63f-495c27887ad7",
   "metadata": {},
   "outputs": [
    {
     "name": "stdout",
     "output_type": "stream",
     "text": [
      "VideoObject(id='23561732071212836-9221296020966239221', model='cogvideox', video_result=None, task_status='PROCESSING', request_id='-9221296020966239222')\n"
     ]
    }
   ],
   "source": [
    "from zhipuai import ZhipuAI\n",
    "client=ZhipuAI(api_key=\"58812fb61db0890ae282d532f0c60ad1.gnwWZAjN5hI8XLGD\")\n",
    "\n",
    "response=client.videos.generations(\n",
    "    model=\"cogvideox\",\n",
    "    image_url=\"https://ww4.sinaimg.cn/mw690/006EZHWhgy1hq5e2vbdqrj30ps0y8485.jpg\",\n",
    "    prompt=\"沙奈朵是一只白色的双足宝可梦，下方裙摆的内侧是绿色的，长裙包裹下的腿长而纤细，绿色的头发自头部的两侧垂下。它面部的边缘长有刺状物，与化装舞会的面具相像。它的手臂是绿色的，手臂与纤细的手套般的手指之间没有明显的界限。它还长有红色的胸鳍状结构，相对身前的部分，其背部的胸鳍圆滑而短小。胸口一条绿色的花纹一直延伸到最中央的鳍，另一端则与套袖般的手臂相连。在阳光明媚的天气里，她站在树林中的一颗苹果树下拿着苹果，风吹动着树叶。\"\n",
    ")\n",
    "print(response)"
   ]
  },
  {
   "cell_type": "code",
   "execution_count": 9,
   "id": "e7ca4113-1308-433a-bcee-4d597d1c0cdb",
   "metadata": {},
   "outputs": [
    {
     "name": "stdout",
     "output_type": "stream",
     "text": [
      "VideoObject(id='23561732071212836-9221296020966239221', model='cogvideox', video_result=None, task_status='PROCESSING', request_id='-9221296020966239222')\n"
     ]
    }
   ],
   "source": [
    "from zhipuai import ZhipuAI\n",
    "client=ZhipuAI(api_key=\"58812fb61db0890ae282d532f0c60ad1.gnwWZAjN5hI8XLGD\")\n",
    "\n",
    "response=client.videos.retrieve_videos_result(\n",
    "    id='23561732071212836-9221296020966239221'\n",
    ")\n",
    "print(response)"
   ]
  },
  {
   "cell_type": "code",
   "execution_count": null,
   "id": "19285353-69e7-49c7-ba55-c58ff9c916ba",
   "metadata": {},
   "outputs": [],
   "source": []
  }
 ],
 "metadata": {
  "kernelspec": {
   "display_name": "Python 3 (ipykernel)",
   "language": "python",
   "name": "python3"
  },
  "language_info": {
   "codemirror_mode": {
    "name": "ipython",
    "version": 3
   },
   "file_extension": ".py",
   "mimetype": "text/x-python",
   "name": "python",
   "nbconvert_exporter": "python",
   "pygments_lexer": "ipython3",
   "version": "3.9.13"
  }
 },
 "nbformat": 4,
 "nbformat_minor": 5
}
