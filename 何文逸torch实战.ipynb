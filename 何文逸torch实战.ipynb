{
 "cells": [
  {
   "cell_type": "code",
   "execution_count": null,
   "id": "f142921f-28d9-461f-b4fa-1616fff4f461",
   "metadata": {},
   "outputs": [],
   "source": [
    "import torch\n",
    "import matplotlib.pyplot as plt\n",
    "import networkx as nx\n",
    "\n",
    "def forward(x1, x2):\n",
    "    v1 = torch.sigmoid(x1**2 + 2*x2 + 1)\n",
    "    v2 = 3 * v1 + 1\n",
    "    v3 = torch.sigmoid(v2)\n",
    "    v4 = torch.sigmoid(x1**2 + 2*x2 + 1)\n",
    "    v5 = v3 + v4 + 1\n",
    "    \n",
    "    y = torch.sigmoid(v5)\n",
    "    \n",
    "    return y, v1, v2, v3, v4, v5\n",
    "\n",
    "x1 = torch.tensor([0.0], requires_grad=True)\n",
    "x2 = torch.tensor([1.0], requires_grad=True)\n",
    "\n",
    "# 计算y的值以及所有内部节点的值\n",
    "y, v1, v2, v3, v4, v5 = forward(x1, x2)\n",
    "\n",
    "G = nx.DiGraph()"
   ]
  }
 ],
 "metadata": {
  "kernelspec": {
   "display_name": "Python 3 (ipykernel)",
   "language": "python",
   "name": "python3"
  },
  "language_info": {
   "codemirror_mode": {
    "name": "ipython",
    "version": 3
   },
   "file_extension": ".py",
   "mimetype": "text/x-python",
   "name": "python",
   "nbconvert_exporter": "python",
   "pygments_lexer": "ipython3",
   "version": "3.9.13"
  }
 },
 "nbformat": 4,
 "nbformat_minor": 5
}
